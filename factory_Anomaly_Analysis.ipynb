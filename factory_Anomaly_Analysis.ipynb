{
  "nbformat": 4,
  "nbformat_minor": 0,
  "metadata": {
    "colab": {
      "name": "factory_Anomaly_Detection.ipynb",
      "provenance": [],
      "collapsed_sections": [],
      "authorship_tag": "ABX9TyMWdg6UAyOn3Lrx/3L40Yfu"
    },
    "kernelspec": {
      "name": "python3",
      "display_name": "Python 3"
    },
    "language_info": {
      "name": "python"
    }
  },
  "cells": [
    {
      "cell_type": "markdown",
      "metadata": {
        "id": "pOJOh9VVmtzA"
      },
      "source": [
        "# 연속형 기술통계량\n",
        "- 평균\n",
        "- 중위수\n",
        "- 최빈값\n",
        "- 산포도\n",
        "- 분포도 : 왜도, 첨도\n",
        "- 분산\n",
        "- 범위"
      ]
    },
    {
      "cell_type": "code",
      "metadata": {
        "id": "TJ5jiESDsllk"
      },
      "source": [
        "import pandas as pd\n",
        "import numpy as np\n",
        "pd.read('')"
      ],
      "execution_count": null,
      "outputs": []
    },
    {
      "cell_type": "code",
      "metadata": {
        "id": "7IbTe5hmszz1"
      },
      "source": [
        ""
      ],
      "execution_count": null,
      "outputs": []
    }
  ]
}