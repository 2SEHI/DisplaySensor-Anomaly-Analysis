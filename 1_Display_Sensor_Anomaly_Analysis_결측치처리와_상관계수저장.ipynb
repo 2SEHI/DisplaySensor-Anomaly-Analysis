{
  "nbformat": 4,
  "nbformat_minor": 0,
  "metadata": {
    "colab": {
      "name": "1_Display_Sensor_Anomaly_Analysis_결측치처리와 상관계수저장.ipynb",
      "provenance": [],
      "collapsed_sections": [],
      "mount_file_id": "16mwFTvOXkRwE21UETtDMDEdsAhdKOmcx",
      "authorship_tag": "ABX9TyOS+1CDbt3hByr9sWTcAHLR",
      "include_colab_link": true
    },
    "kernelspec": {
      "name": "python3",
      "display_name": "Python 3"
    },
    "language_info": {
      "name": "python"
    }
  },
  "cells": [
    {
      "cell_type": "markdown",
      "metadata": {
        "id": "view-in-github",
        "colab_type": "text"
      },
      "source": [
        "<a href=\"https://colab.research.google.com/github/2SEHI/Factory-Anomaly-Analysis/blob/main/1_Display_Sensor_Anomaly_Analysis_%EA%B2%B0%EC%B8%A1%EC%B9%98%EC%B2%98%EB%A6%AC%EC%99%80_%EC%83%81%EA%B4%80%EA%B3%84%EC%88%98%EC%A0%80%EC%9E%A5.ipynb\" target=\"_parent\"><img src=\"https://colab.research.google.com/assets/colab-badge.svg\" alt=\"Open In Colab\"/></a>"
      ]
    },
    {
      "cell_type": "markdown",
      "metadata": {
        "id": "by584IlSUZ0Q"
      },
      "source": [
        "## 결측치 처리\n",
        "- 결측치의 7개의 컬럼과 3개의 행 제거함.\n",
        "\n",
        "## 컬럼 분리\n",
        "- 결측치를 제거한 fact_data를 와 sensor, 폐기율으로 나눈 3가지를 파일에 각각 저장하였음.\n",
        "- 전체 데이터 : fact_data\n",
        "- sensor 데이터 : sensor_data\n",
        "- 폐기율 관련 데이터 : trash_data\n",
        "\n",
        "## 상관계수 파일 저장\n",
        "- (결측치로 제거된)모든 sensor column끼리의 상관계수를 구하여 파일 저장\n",
        "- all_col_corr\n",
        "\n"
      ]
    },
    {
      "cell_type": "code",
      "metadata": {
        "id": "SpzWbQTICh5T"
      },
      "source": [
        "# 공통 모듈 임포트\n",
        "import numpy as np\n",
        "import pandas as pd\n",
        "import os\n",
        "from scipy import stats\n",
        "import seaborn as sns\n",
        "# 깔끔한 그래프 출력을 위해\n",
        "%matplotlib inline\n",
        "import matplotlib as mpl\n",
        "import matplotlib.pyplot as plt\n",
        "mpl.rc('axes', labelsize=14)\n",
        "mpl.rc('xtick', labelsize=12)\n",
        "mpl.rc('ytick', labelsize=12)\n",
        "mpl.rcParams['axes.unicode_minus'] = False\n",
        "\n",
        "# 그림을 저장할 위치\n",
        "PROJECT_ROOT_DIR = \".\"\n",
        "CHAPTER_ID = \"Display_Sensor_Anomaly_Analysis\"\n",
        "IMAGES_PATH = os.path.join(PROJECT_ROOT_DIR, \"images\", CHAPTER_ID)\n",
        "os.makedirs(IMAGES_PATH, exist_ok=True)\n",
        "\n",
        "def save_fig(fig_id, tight_layout=True, fig_extension=\"png\", resolution=300):\n",
        "    path = os.path.join(IMAGES_PATH, fig_id + \".\" + fig_extension)\n",
        "    print(\"그림 저장:\", fig_id)\n",
        "    if tight_layout:\n",
        "        plt.tight_layout()\n",
        "    plt.savefig(path, format=fig_extension, dpi=resolution)\n",
        "    \n",
        "plt.rc('font', family='NanumBarunGothic') \n",
        "\n",
        "import warnings\n",
        "warnings.filterwarnings(action='ignore')\n",
        "\n",
        "np.random.seed(42)"
      ],
      "execution_count": null,
      "outputs": []
    },
    {
      "cell_type": "code",
      "metadata": {
        "id": "g0odDGOeeIYY"
      },
      "source": [
        "working_dir = '/content/drive/MyDrive/Colab Notebooks/data/Display_Sensor_Anomaly_Analysis/'"
      ],
      "execution_count": null,
      "outputs": []
    },
    {
      "cell_type": "code",
      "metadata": {
        "id": "TJ5jiESDsllk"
      },
      "source": [
        "fact_init_data = pd.read_csv(working_dir + 'factory_glass_2016.csv', encoding='cp949',index_col='dat...date.name.')"
      ],
      "execution_count": null,
      "outputs": []
    },
    {
      "cell_type": "markdown",
      "metadata": {
        "id": "5AvdftmA1480"
      },
      "source": [
        "### 결측치 확인 \n",
        "- 전부 Na인 컬럼이 7개 존재하며 1개의 결측치를 가진 컬럼들이 100개 이상 존재함."
      ]
    },
    {
      "cell_type": "code",
      "metadata": {
        "colab": {
          "base_uri": "https://localhost:8080/"
        },
        "id": "BSbEvERXV3tF",
        "outputId": "34faaee4-597c-40c4-dcd7-4fced453c949"
      },
      "source": [
        "x = fact_init_data.isnull().sum().sort_values(ascending=False)\n",
        "np.where(x > 0)"
      ],
      "execution_count": null,
      "outputs": [
        {
          "output_type": "execute_result",
          "data": {
            "text/plain": [
              "(array([  0,   1,   2,   3,   4,   5,   6,   7,   8,   9,  10,  11,  12,\n",
              "         13,  14,  15,  16,  17,  18,  19,  20,  21,  22,  23,  24,  25,\n",
              "         26,  27,  28,  29,  30,  31,  32,  33,  34,  35,  36,  37,  38,\n",
              "         39,  40,  41,  42,  43,  44,  45,  46,  47,  48,  49,  50,  51,\n",
              "         52,  53,  54,  55,  56,  57,  58,  59,  60,  61,  62,  63,  64,\n",
              "         65,  66,  67,  68,  69,  70,  71,  72,  73,  74,  75,  76,  77,\n",
              "         78,  79,  80,  81,  82,  83,  84,  85,  86,  87,  88,  89,  90,\n",
              "         91,  92,  93,  94,  95,  96,  97,  98,  99, 100, 101, 102, 103,\n",
              "        104, 105, 106, 107, 108, 109, 110, 111, 112, 113, 114, 115, 116,\n",
              "        117, 118, 119, 120, 121, 122, 123, 124, 125, 126, 127, 128, 129,\n",
              "        130, 131, 132, 133]),)"
            ]
          },
          "metadata": {
            "tags": []
          },
          "execution_count": 4
        }
      ]
    },
    {
      "cell_type": "markdown",
      "metadata": {
        "id": "Bq9FSKJ6Wejj"
      },
      "source": [
        "- 전체 8145행 중에서 NaN가 8145행인 컬럼은 7개가 존재하므로 컬럼삭제"
      ]
    },
    {
      "cell_type": "code",
      "metadata": {
        "id": "mRYuDJsnxxB_",
        "colab": {
          "base_uri": "https://localhost:8080/"
        },
        "outputId": "cdf4e176-7aad-4aff-ab11-8538f9d975f3"
      },
      "source": [
        "print(fact_init_data.isnull().sum().sort_values(ascending=False).head(10))\n",
        "fact_init_data = fact_init_data.dropna(how='all', axis=1)"
      ],
      "execution_count": null,
      "outputs": [
        {
          "output_type": "stream",
          "text": [
            "ROOF.HEATING.Zone52.1JIC31152.PV        8145\n",
            "UPPER.RET..Z218.TMP.1TIC42601.PV        8145\n",
            "ROOF.HEATING.Zone78.1JIC31178.PV        8145\n",
            "ROOF.HEATING.Zone76.1JIC31176.PV        8145\n",
            "LEHR.DRV.MTR..M19.2.CUR.1WII40135.PV    8145\n",
            "DCS_Offset_RPM_M14.1WOS45114_PV         8145\n",
            "DCS_Offset_RPM_M13.1WOS45113_PV         8145\n",
            "DB.HEAT.TOP.4.1.2.TMP.CT.1JI40304.PV       1\n",
            "DB.HEAT.TOP.5.1.2.TMP.CT.1JI40305.PV       1\n",
            "DB.HEAT.TOP.7.1.2.TMP.CT.1JI40307.PV       1\n",
            "dtype: int64\n"
          ],
          "name": "stdout"
        }
      ]
    },
    {
      "cell_type": "code",
      "metadata": {
        "id": "W5dAmMLMy_np",
        "colab": {
          "base_uri": "https://localhost:8080/"
        },
        "outputId": "815656c4-6022-4b01-891b-15ab8da82089"
      },
      "source": [
        "fact_init_data.isnull().sum().sort_values(ascending=False).head(100)"
      ],
      "execution_count": null,
      "outputs": [
        {
          "output_type": "execute_result",
          "data": {
            "text/plain": [
              "DB.HEAT.BOTTOM.1.1JIC40308.PV           1\n",
              "DB.HEAT.TOP.4.1.2.TMP.CT.1JI40304.PV    1\n",
              "DROSS.BOX.N2.BTM.HT..L..1JI39009.PV     1\n",
              "DROSS.BOX.N2.BTM.HT..R..1JI39010.PV     1\n",
              "DROSSBOX.N2.SCN.L.1JI39011_PV           1\n",
              "                                       ..\n",
              "X.1.LEHR.O2.ANALYZER.1AI44111.PV        1\n",
              "X.2.LEHR.SO2.ANALYZER.1AI44112.PV       1\n",
              "X.2.LEHR.O2.ANALYZER.1AI44113.PV        1\n",
              "S_C1_C2_L_R                             1\n",
              "CASHING.COLD.AIR.TMP.1TIC33603.PV       1\n",
              "Length: 100, dtype: int64"
            ]
          },
          "metadata": {
            "tags": []
          },
          "execution_count": 6
        }
      ]
    },
    {
      "cell_type": "markdown",
      "metadata": {
        "id": "NAa9NnOOa1gN"
      },
      "source": [
        "## 결측치가 존재하는 행을 평균으로 결측치 대체"
      ]
    },
    {
      "cell_type": "code",
      "metadata": {
        "id": "8matKUJPa0o4"
      },
      "source": [
        "fact_data_filled = fact_init_data.fillna(fact_init_data.mean())"
      ],
      "execution_count": null,
      "outputs": []
    },
    {
      "cell_type": "markdown",
      "metadata": {
        "id": "yNaRdBBWzhL5"
      },
      "source": [
        "## 결측치가 존재하는 행 출력과 삭제\n",
        "- 3행에 모두 몰려있으므로 행을 삭제한다."
      ]
    },
    {
      "cell_type": "code",
      "metadata": {
        "id": "Zw8UvPha5rJw",
        "colab": {
          "base_uri": "https://localhost:8080/"
        },
        "outputId": "3d30afb8-9d5c-4045-bbec-72269c156a68"
      },
      "source": [
        "print(fact_init_data[fact_init_data.isnull().any(axis=1)])\n",
        "drop_index = list(fact_init_data[fact_init_data.isnull().any(axis=1)].index)\n",
        "print(drop_index)\n",
        "\n",
        "# 각 행의 NaN개수\n",
        "print(fact_init_data.iloc[3754].isnull().sum())\n",
        "print(fact_init_data.iloc[6310].isnull().sum())\n",
        "print(fact_init_data.iloc[8044].isnull().sum())\n",
        "\n",
        "# NaN가 있는 행 삭제\n",
        "fact_data = fact_init_data.drop(index=drop_index, axis=0)"
      ],
      "execution_count": null,
      "outputs": [
        {
          "output_type": "stream",
          "text": [
            "                  LIFT.OUT.ROL.MTR.M1.SPD.1WSI40101  ...  R.Vac\n",
            "dat...date.name.                                     ...       \n",
            "2016-06-24 04                              1.467846  ...    0.0\n",
            "2016-10-13 09                             -0.846817  ...    0.0\n",
            "2016-12-27 17                             -0.846817  ...    0.0\n",
            "\n",
            "[3 rows x 833 columns]\n",
            "['2016-06-24 04', '2016-10-13 09', '2016-12-27 17']\n",
            "1\n",
            "39\n",
            "87\n"
          ],
          "name": "stdout"
        }
      ]
    },
    {
      "cell_type": "markdown",
      "metadata": {
        "id": "1gwZSFeRZW8u"
      },
      "source": [
        "## 컬럼 분리\n",
        "- 결측치를 제거한 fact_data를 와 sensor, 폐기율으로 나눈 3가지를 파일에 각각 저장하였음.\n",
        "- 전체 데이터 : fact_data\n",
        "- sensor 데이터 : sensor_data\n",
        "- 폐기율 관련 데이터 : trash_data"
      ]
    },
    {
      "cell_type": "code",
      "metadata": {
        "cellView": "code",
        "id": "aLklu6s9aMuP"
      },
      "source": [
        "# 폐기율 컬럼\n",
        "trash_columns = ['투입.LEFT.','투입.RIGHT.','ROLLDOWN.폐기.LEFT.','진공패드.폐기.LEFT.','ROLLDOWN.폐기.RIGHT.','진공패드.폐기.RIGHT.','폐기율...','ROLLDOWN.진공패드.폐기율..LEFT.','ROLLDOWN.진공패드.폐기율..RIGHT.','ROLLDOWN.진공패드.폐기율..전체.','L.RD','L.Vac','R.RD','R.Vac',]\n",
        "sensor_data = fact_data.drop(columns=trash_columns)\n",
        "trash_data = fact_data[trash_columns]\n",
        "\n",
        "fact_data.to_csv(working_dir + 'fact_data.csv')\n",
        "sensor_data.to_csv(working_dir + 'sensor_data.csv')\n",
        "trash_data.to_csv(working_dir + 'trash_data.csv')"
      ],
      "execution_count": null,
      "outputs": []
    },
    {
      "cell_type": "markdown",
      "metadata": {
        "id": "wKW4xdvBVWxo"
      },
      "source": [
        "## 모든 sensor 컬럼에 대한 상관관계를 파일로 저장\n",
        "- ❗❗총 10분 소요\n",
        "- 파일명 \n",
        "```\n",
        "corr_df0-100.csv\n",
        "corr_df100-200.csv\n",
        "corr_df200-300.csv\n",
        "corr_df300-500.csv\n",
        "corr_df500-700.csv\n",
        "corr_df700-819.csv\n",
        "```\n"
      ]
    },
    {
      "cell_type": "code",
      "metadata": {
        "id": "54JkNIOSFJ_X"
      },
      "source": [
        "# 모든 sensor 컬럼에 대한 상관계수를 저장하는 함수\n",
        "def save_coef(start_num, end_num):\n",
        "    # 컬럼1, 컬럼2, 상관계수를 담는 list\n",
        "    corr_tp = []\n",
        "\n",
        "    # 두 컬럼의 상관계수를 구하는 for문\n",
        "    for i in range(start_num, end_num):\n",
        "        for j in range(i+1, len(sensor_columns)):\n",
        "            # 상관계수 저장\n",
        "            c = sensor_data[[sensor_columns[i],sensor_columns[j]]].corr().abs()\n",
        "            # DataFrame을 Series로 변환\n",
        "            s = c.unstack()\n",
        "            # 정렬(가장 높은 상관계수는 자기 자신이므로 3또는 4번째가 두 컬럼의 상관계수)\n",
        "            so = s.sort_values(kind=\"quicksort\", ascending=False)\n",
        "            # (컬럼1, 컬럼2, 상관계수)를 list에 저장\n",
        "            # 가장 높은 상관계수는 자기 자신이므로 3또는 4번째가 두 컬럼의 상관계수\n",
        "            corr_tp.append((sensor_columns[i],sensor_columns[j],so[3]))\n",
        "    corr_df = pd.DataFrame(corr_tp, columns=['col1','col2','coef'])\n",
        "    file_name = 'corr_df' + str(start_num) +'-'+ str(end_num)\n",
        "\n",
        "    corr_df.to_csv(working_dir + file_name + '.csv')\n"
      ],
      "execution_count": null,
      "outputs": []
    },
    {
      "cell_type": "code",
      "metadata": {
        "id": "cPW4hkwzHHGA"
      },
      "source": [
        "sensor_columns = sensor_data.columns\n",
        "\n",
        "#*************************************\n",
        "# s : 시작 컬럼 index\n",
        "# e : 마지막 컬럼 index\n",
        "#*************************************\n",
        "index_list = [(0,100),(100, 200), (200, 300), (300,500),(500, 700), (700,len(sensor_columns))]\n",
        "for s, e in index_list:\n",
        "    save_coef(s,e)"
      ],
      "execution_count": null,
      "outputs": []
    },
    {
      "cell_type": "code",
      "metadata": {
        "id": "TDypyGhnkiP1"
      },
      "source": [
        "def get_coef(start_num, end_num):\n",
        "    file_name = 'corr_df' + str(start_num) +'-'+ str(end_num)\n",
        "    coef_df  = pd.read_csv(working_dir + file_name + '.csv', usecols=(1,2,3))\n",
        "    coef_df = coef_df.sort_values(by='coef', ascending=False)\n",
        "    return coef_df\n",
        "   \n",
        "coef_list_1 = get_coef(0, 100)\n",
        "coef_list_2 = get_coef(100, 200)\n",
        "coef_list_3 = get_coef(200, 300)\n",
        "coef_list_4 = get_coef(300, 500)\n",
        "coef_list_5 = get_coef(500, 700)\n",
        "coef_list_6 = get_coef(700, len(sensor_columns))"
      ],
      "execution_count": null,
      "outputs": []
    },
    {
      "cell_type": "code",
      "metadata": {
        "id": "s-QiRBR8nANh"
      },
      "source": [
        "# 추출할 상관계수 크기 \n",
        "compare_num = 1.0\n",
        "\n",
        "high_coef_df = pd.DataFrame(columns=['col1','col2','coef'])\n",
        "def get_high_coef(coef_df, compare_num):\n",
        "    coef_df = coef_df[coef_df['coef'] >= compare_num]\n",
        "    global high_coef_df\n",
        "    high_coef_df = high_coef_df.append(coef_df,ignore_index=True)\n",
        "\n",
        "get_high_coef(coef_list_1,compare_num)\n",
        "get_high_coef(coef_list_2,compare_num)\n",
        "get_high_coef(coef_list_3,compare_num)\n",
        "get_high_coef(coef_list_4,compare_num)\n",
        "get_high_coef(coef_list_5,compare_num)\n",
        "get_high_coef(coef_list_6,compare_num)\n",
        "\n",
        "file_name = 'high_coef_df_upper_' + str(compare_num)\n",
        "# csv 파일로 저장\n",
        "high_coef_df.to_csv(working_dir + file_name + '.csv')"
      ],
      "execution_count": null,
      "outputs": []
    },
    {
      "cell_type": "code",
      "metadata": {
        "id": "FyYQXpwpyE5k",
        "colab": {
          "base_uri": "https://localhost:8080/",
          "height": 414
        },
        "outputId": "fcb4e997-2803-425f-d20c-da5a207da3db"
      },
      "source": [
        "# csv 파일불러오기\n",
        "high_coef_df = pd.read_csv(working_dir + file_name + '.csv',usecols=(1,2,3))\n",
        "high_coef_df"
      ],
      "execution_count": null,
      "outputs": [
        {
          "output_type": "execute_result",
          "data": {
            "text/html": [
              "<div>\n",
              "<style scoped>\n",
              "    .dataframe tbody tr th:only-of-type {\n",
              "        vertical-align: middle;\n",
              "    }\n",
              "\n",
              "    .dataframe tbody tr th {\n",
              "        vertical-align: top;\n",
              "    }\n",
              "\n",
              "    .dataframe thead th {\n",
              "        text-align: right;\n",
              "    }\n",
              "</style>\n",
              "<table border=\"1\" class=\"dataframe\">\n",
              "  <thead>\n",
              "    <tr style=\"text-align: right;\">\n",
              "      <th></th>\n",
              "      <th>col1</th>\n",
              "      <th>col2</th>\n",
              "      <th>coef</th>\n",
              "    </tr>\n",
              "  </thead>\n",
              "  <tbody>\n",
              "    <tr>\n",
              "      <th>0</th>\n",
              "      <td>LEHR.DRV.MTR..M6.1.SPD.1WSI40108</td>\n",
              "      <td>DRIVE.MOTOR.M19.1.SPEED.1WSI40134</td>\n",
              "      <td>1.0</td>\n",
              "    </tr>\n",
              "    <tr>\n",
              "      <th>1</th>\n",
              "      <td>DAMP.POSITION.4.BAY.CTRL.1TIC33424.PV</td>\n",
              "      <td>DAMP.POSITION.6.BAY.CTRL.1TIC33426.PV</td>\n",
              "      <td>1.0</td>\n",
              "    </tr>\n",
              "    <tr>\n",
              "      <th>2</th>\n",
              "      <td>ATM.FLOW.SECT.6.N2.H2.1FI33410.PV</td>\n",
              "      <td>ATM.FLOW.SECT.9.N2.H2.1FIC33416.PV</td>\n",
              "      <td>1.0</td>\n",
              "    </tr>\n",
              "    <tr>\n",
              "      <th>3</th>\n",
              "      <td>LEHR.DRV.MTR..M7.1.SPD.1WSI40110</td>\n",
              "      <td>LEHR.DRV.MTR..M14.1.SPD.1WSI40124</td>\n",
              "      <td>1.0</td>\n",
              "    </tr>\n",
              "    <tr>\n",
              "      <th>4</th>\n",
              "      <td>ATM.FLOW.SECT.6.N2.H2.1FI33410.PV</td>\n",
              "      <td>ATM.FLOW.SECT.10.N2.H2.1FIC33418.PV</td>\n",
              "      <td>1.0</td>\n",
              "    </tr>\n",
              "    <tr>\n",
              "      <th>...</th>\n",
              "      <td>...</td>\n",
              "      <td>...</td>\n",
              "      <td>...</td>\n",
              "    </tr>\n",
              "    <tr>\n",
              "      <th>97</th>\n",
              "      <td>LEHR.DRV.MTR..M11.2.CUR.1WII40119.PV</td>\n",
              "      <td>LEHR.DRV.MTR..M12.2.CUR.1WII40121.PV</td>\n",
              "      <td>1.0</td>\n",
              "    </tr>\n",
              "    <tr>\n",
              "      <th>98</th>\n",
              "      <td>LEHR.DRV.MTR..M10.1.CUR.1WII40116.PV</td>\n",
              "      <td>TMP.TIN..BAY.4.LEFT.1TI30203.PV</td>\n",
              "      <td>1.0</td>\n",
              "    </tr>\n",
              "    <tr>\n",
              "      <th>99</th>\n",
              "      <td>LEHR.DRV.MTR..M9.1.CUR.1WII40114.PV</td>\n",
              "      <td>LEHR.DRV.MTR..M10.1.CUR.1WII40116.PV</td>\n",
              "      <td>1.0</td>\n",
              "    </tr>\n",
              "    <tr>\n",
              "      <th>100</th>\n",
              "      <td>LEHR.DRV.MTR..M10.1.CUR.1WII40116.PV</td>\n",
              "      <td>LEHR.DRV.MTR..M17.2.CUR.1WII40131.PV</td>\n",
              "      <td>1.0</td>\n",
              "    </tr>\n",
              "    <tr>\n",
              "      <th>101</th>\n",
              "      <td>LEHR.DRV.MTR..M17.2.CUR.1WII40131.PV</td>\n",
              "      <td>TMP.TIN..BAY.4.LEFT.1TI30203.PV</td>\n",
              "      <td>1.0</td>\n",
              "    </tr>\n",
              "  </tbody>\n",
              "</table>\n",
              "<p>102 rows × 3 columns</p>\n",
              "</div>"
            ],
            "text/plain": [
              "                                      col1  ... coef\n",
              "0         LEHR.DRV.MTR..M6.1.SPD.1WSI40108  ...  1.0\n",
              "1    DAMP.POSITION.4.BAY.CTRL.1TIC33424.PV  ...  1.0\n",
              "2        ATM.FLOW.SECT.6.N2.H2.1FI33410.PV  ...  1.0\n",
              "3         LEHR.DRV.MTR..M7.1.SPD.1WSI40110  ...  1.0\n",
              "4        ATM.FLOW.SECT.6.N2.H2.1FI33410.PV  ...  1.0\n",
              "..                                     ...  ...  ...\n",
              "97    LEHR.DRV.MTR..M11.2.CUR.1WII40119.PV  ...  1.0\n",
              "98    LEHR.DRV.MTR..M10.1.CUR.1WII40116.PV  ...  1.0\n",
              "99     LEHR.DRV.MTR..M9.1.CUR.1WII40114.PV  ...  1.0\n",
              "100   LEHR.DRV.MTR..M10.1.CUR.1WII40116.PV  ...  1.0\n",
              "101   LEHR.DRV.MTR..M17.2.CUR.1WII40131.PV  ...  1.0\n",
              "\n",
              "[102 rows x 3 columns]"
            ]
          },
          "metadata": {
            "tags": []
          },
          "execution_count": 16
        }
      ]
    }
  ]
}