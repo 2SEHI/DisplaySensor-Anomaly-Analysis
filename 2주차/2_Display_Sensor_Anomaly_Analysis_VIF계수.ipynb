{
  "nbformat": 4,
  "nbformat_minor": 0,
  "metadata": {
    "colab": {
      "name": "2_Display_Sensor_Anomaly_Analysis_VIF계수.ipynb",
      "provenance": [],
      "collapsed_sections": [],
      "include_colab_link": true
    },
    "kernelspec": {
      "display_name": "Python 3",
      "language": "python",
      "name": "python3"
    },
    "language_info": {
      "codemirror_mode": {
        "name": "ipython",
        "version": 3
      },
      "file_extension": ".py",
      "mimetype": "text/x-python",
      "name": "python",
      "nbconvert_exporter": "python",
      "pygments_lexer": "ipython3",
      "version": "3.8.5"
    }
  },
  "cells": [
    {
      "cell_type": "markdown",
      "metadata": {
        "id": "view-in-github",
        "colab_type": "text"
      },
      "source": [
        "<a href=\"https://colab.research.google.com/github/2SEHI/Factory-Anomaly-Analysis/blob/main/2_Display_Sensor_Anomaly_Analysis_VIF%EA%B3%84%EC%88%98.ipynb\" target=\"_parent\"><img src=\"https://colab.research.google.com/assets/colab-badge.svg\" alt=\"Open In Colab\"/></a>"
      ]
    },
    {
      "cell_type": "markdown",
      "metadata": {
        "id": "BAumlvrBtV2m"
      },
      "source": [
        "# VIF계수를 이용하여 컬럼을 제거하는 처리\n",
        "- 자동으로 vif계수 구하고 컬럼제거하는 함수를 만들었어요!\n",
        "잘 돌아가긴 한데 문제는 컬럼을 하나씩  잘 제거하다가 이전의 VIF계수보다 계속 크게 나오는 경우가 생겨서\n",
        "일정 횟수만큼 이전의 VIF계수보다 크게 나오면 지우는 컬럼의 수를 2개로 늘리는 처리를 추가해야 할 것 같습니다"
      ]
    },
    {
      "cell_type": "code",
      "metadata": {
        "id": "miigMWwEtTXk"
      },
      "source": [
        "import pandas as pd \n",
        "import warnings\n",
        "warnings.filterwarnings(action='ignore')"
      ],
      "execution_count": null,
      "outputs": []
    },
    {
      "cell_type": "code",
      "metadata": {
        "id": "ojEiHXuvjfLA"
      },
      "source": [
        "working_dir = ''\n",
        "# working_dir = '/content/drive/MyDrive/Colab Notebooks/k-digital/[Project]Display_Sensor_Anomaly_Analysis/'\n",
        "fact_data = pd.read_csv(working_dir + 'fact_data.csv', index_col='dat...date.name.')"
      ],
      "execution_count": null,
      "outputs": []
    },
    {
      "cell_type": "markdown",
      "metadata": {
        "id": "2dLn665sjfLD"
      },
      "source": [
        "## 1. 모든 컬럼에 대한 VIF계수 구하는 함수"
      ]
    },
    {
      "cell_type": "code",
      "metadata": {
        "id": "XghzIjO5tTXo"
      },
      "source": [
        "from statsmodels.stats.outliers_influence import variance_inflation_factor\n",
        "\n",
        "\n",
        "# VIF계수를 구하는 함수\n",
        "# 매개변수 : 데이터프레임, 컬럼명 리스트\n",
        "# 반환값 : VIF 데이터프레임, 가장큰 VIF를 가진 컬럼명, 가장 큰 VIF계수\n",
        "def get_vif(df, columns_all):\n",
        "#     print('\\n',columns_all)\n",
        "    # 매개변수로 받은 각 피처마다의 VIF 계수를 출력\n",
        "    vif_df = pd.DataFrame()\n",
        "    vif_df[\"VIF Factor\"] = [variance_inflation_factor(df[columns_all].values, i) for i in range(df[columns_all].values.shape[1])]\n",
        "#     print(df[columns_all].columns)\n",
        "    vif_df[\"features\"] = columns_all\n",
        "    vif_df.sort_values(by=\"VIF Factor\",ascending=False, inplace=True)\n",
        "#     print(vif_df)    \n",
        "    # 가장 큰 vif 컬럼명\n",
        "    max_col_name = vif_df.iloc[0].features\n",
        "    # 가장 큰 vif계수\n",
        "    max_vif = max(vif_df['VIF Factor'])\n",
        "\n",
        "    return vif_df, max_col_name, max_vif"
      ],
      "execution_count": null,
      "outputs": []
    },
    {
      "cell_type": "markdown",
      "metadata": {
        "id": "X5m-FHE-tTXp"
      },
      "source": [
        "## 2. 컬럼삭제후 VIF구하는 함수(get_vif호출)\n",
        "- 이전에 구한 VIF값보다 작아질때까지 실행합니다."
      ]
    },
    {
      "cell_type": "code",
      "metadata": {
        "id": "s7cSI3z9tTXp"
      },
      "source": [
        "# VIF 데이터프레임으로 부터 \n",
        "# 매개변수 : VIF 데이터프레임, 컬럼명 리스트\n",
        "# 반환값 : VIF 데이터프레임, \n",
        "def get_lowest_VIF(df, old_vif_df, old_columns):\n",
        "    # (삭제한 컬럼명, 컬럼 삭제후 VIF가 가장 큰 컬럼명, VIF계수)\n",
        "    vif_tp = ()\n",
        "    # 컬럼 삭제후 VIF\n",
        "    vif_df = pd.DataFrame()\n",
        "    # 가장 큰 vif계수\n",
        "    old_max_vif = max(old_vif_df['VIF Factor'])\n",
        "\n",
        "    # 삭제한 각 6개의 컬럼에 대해 가장 높은 vif계수를 dict에 저장\n",
        "    # (삭제한 컬럼명, 컬럼 삭제후 VIF가 가장 큰 컬럼명, VIF계수)\n",
        "    for i in range(len(old_columns)):\n",
        "        print('삭제 된 컬럼:', old_vif_df.iloc[i].features)\n",
        "        old_columns.remove(old_vif_df.iloc[i].features)\n",
        "        vif_df, max_col_name, max_vif = get_vif(df, old_columns)\n",
        "        \n",
        "        print('VIF가 가장 큰 컬럼명, VIF계수 : ', max_col_name, max_vif)\n",
        "        if old_max_vif > max_vif:\n",
        "            # (삭제한 컬럼명, 컬럼 삭제후 VIF가 가장 큰 컬럼명, VIF계수)\n",
        "            vif_tp = (vif_df.iloc[i].features, max_col_name, max_vif)\n",
        "#             vif_tp_list.append((vif_df.iloc[i].features, max_col_name, max_vif)) \n",
        "#              컬럼 삭제후 얻은 vif 데이터프레임 6개 출력\n",
        "            print(vif_df.head(6),'\\n')\n",
        "            break\n",
        "\n",
        "    return vif_df, vif_tp"
      ],
      "execution_count": null,
      "outputs": []
    },
    {
      "cell_type": "markdown",
      "metadata": {
        "id": "mgMoLUEWtTXq"
      },
      "source": [
        "## 3.VIF계수가 30이 될 때까지 컬럼을 제거하는 처리\n",
        "- get_vif함수와, get_lowest_VIF함수를 호출합니다."
      ]
    },
    {
      "cell_type": "code",
      "metadata": {
        "id": "XOaj4WJWtTXr",
        "outputId": "186a4b85-2f38-481b-9047-639ec39c99d8"
      },
      "source": [
        "working_dir = ''\n",
        "test_df = pd.read_csv(working_dir + 'fact_data_copy.csv', index_col='dat...date.name.')\n",
        "\n",
        "# 초기 컬럼명 리스트\n",
        "# 이 컬러명 리스트에서 하나씩 제거해 나갑니다.\n",
        "cl_columns = list(test_df.columns)\n",
        "\n",
        "new_vif_df, new_max_col_name, new_max_vif = get_vif(test_df, cl_columns)\n",
        "\n",
        "while new_max_vif > 30:\n",
        "\n",
        "    new_vif_df, vif_tp = get_lowest_VIF(test_df, new_vif_df, cl_columns)\n",
        "    new_max_vif = vif_tp[2]  \n",
        "\n",
        "# 남겨진 컬럼수 출력\n",
        "print(len(cl_columns))"
      ],
      "execution_count": null,
      "outputs": [
        {
          "output_type": "stream",
          "text": [
            "삭제 된 컬럼: DCS_Offset_RPM_M11.1WOS45111_PV.1\n",
            "VIF가 가장 큰 컬럼명, VIF계수 :  DCS_Offset_RPM_M14.1WOS45114_PV.1 5515737449320.877\n",
            "       VIF Factor                           features\n",
            "89   5.515737e+12  DCS_Offset_RPM_M14.1WOS45114_PV.1\n",
            "292  1.626142e+12                      S_AB1_AB2_L_L\n",
            "264  1.304068e+12                         D_AB1_L_UL\n",
            "223  8.336140e+11                             bay5_6\n",
            "88   6.742925e+11                    X1WOS45106_PV.1\n",
            "284  5.655657e+11                          D_C3_L_UL \n",
            "\n",
            "삭제 된 컬럼: DCS_Offset_RPM_M14.1WOS45114_PV.1\n",
            "VIF가 가장 큰 컬럼명, VIF계수 :  LOWER.C2..Z176.TMP.1TIC42351.PV 2205484636322.476\n",
            "       VIF Factor                         features\n",
            "57   2.205485e+12  LOWER.C2..Z176.TMP.1TIC42351.PV\n",
            "303  1.203849e+12                   S_AB9_AB10_U_L\n",
            "310  1.036740e+12                      S_C1_C2_L_L\n",
            "58   8.707656e+11  LOWER.C2..Z182.TMP.1TIC42357.PV\n",
            "228  7.809936e+11                    l_tin_bay_5_7\n",
            "291  7.349216e+11                    S_AB1_AB2_L_L \n",
            "\n",
            "삭제 된 컬럼: LOWER.C2..Z176.TMP.1TIC42351.PV\n",
            "VIF가 가장 큰 컬럼명, VIF계수 :  DB.BTM.DN.STM.TC.LE.1TI40404_PV 1386576239953.9705\n",
            "       VIF Factor                         features\n",
            "128  1.386576e+12  DB.BTM.DN.STM.TC.LE.1TI40404_PV\n",
            "51   1.057307e+12  LOWER.C1..Z168.TMP.1TIC42257.PV\n",
            "306  8.798671e+11                    S_AB11_C1_U_L\n",
            "282  8.251373e+11                        D_C3_L_UL\n",
            "262  7.987230e+11                       D_AB1_L_UL\n",
            "291  6.969359e+11                    S_AB2_AB3_U_L \n",
            "\n",
            "삭제 된 컬럼: DB.BTM.DN.STM.TC.LE.1TI40404_PV\n",
            "VIF가 가장 큰 컬럼명, VIF계수 :  TMP.TIN..BAY.5.LEFT.1TI30205.PV 1568925144529.0005\n",
            "삭제 된 컬럼: LOWER.C1..Z168.TMP.1TIC42257.PV\n",
            "VIF가 가장 큰 컬럼명, VIF계수 :  bay1_2 4097906849290.7153\n",
            "삭제 된 컬럼: S_AB11_C1_U_L\n",
            "VIF가 가장 큰 컬럼명, VIF계수 :  S_AB1_AB2_L_L 3423488884356.1353\n",
            "삭제 된 컬럼: D_C3_L_UL\n",
            "VIF가 가장 큰 컬럼명, VIF계수 :  bay1_2 6508091947067.19\n",
            "삭제 된 컬럼: D_AB1_L_UL\n",
            "VIF가 가장 큰 컬럼명, VIF계수 :  TMP.GLASS..BAY.2.1TI30102.PV 4368185865538.7935\n",
            "삭제 된 컬럼: S_AB2_AB3_U_L\n",
            "VIF가 가장 큰 컬럼명, VIF계수 :  S_C1_C2_L_L 1897850664715.759\n",
            "삭제 된 컬럼: ROOF.HEATING.Zone.1.1JIC31101.PV\n",
            "VIF가 가장 큰 컬럼명, VIF계수 :  D_AB7_L_UL 2443624323044.219\n",
            "삭제 된 컬럼: TMP.TIN..BAY.5.LEFT.1TI30205.PV\n",
            "VIF가 가장 큰 컬럼명, VIF계수 :  bay1_2 6090060348033.125\n",
            "삭제 된 컬럼: ROOF.HEATING.Zone.2.1JIC31102.PV\n",
            "VIF가 가장 큰 컬럼명, VIF계수 :  S_AB8_AB9_U_L 5488847809104.81\n",
            "삭제 된 컬럼: D_C2_L_UL\n",
            "VIF가 가장 큰 컬럼명, VIF계수 :  D_AB7_L_UL 1786788187808.1714\n",
            "삭제 된 컬럼: TMP.GLASS..BAY.5.1TI30105.PV\n",
            "VIF가 가장 큰 컬럼명, VIF계수 :  TMP.GLASS..BAY.6.1TI30106.PV 3199715543424.864\n",
            "삭제 된 컬럼: S_AB8_AB9_U_L\n",
            "VIF가 가장 큰 컬럼명, VIF계수 :  D_AB7_L_UL 7914937833691.557\n",
            "삭제 된 컬럼: DB.BTM.DN.STM.TC.RE.1TI40408_PV\n"
          ],
          "name": "stdout"
        },
        {
          "output_type": "error",
          "ename": "KeyboardInterrupt",
          "evalue": "",
          "traceback": [
            "\u001b[1;31m---------------------------------------------------------------------------\u001b[0m",
            "\u001b[1;31mKeyboardInterrupt\u001b[0m                         Traceback (most recent call last)",
            "\u001b[1;32m<ipython-input-129-045a149344d8>\u001b[0m in \u001b[0;36m<module>\u001b[1;34m\u001b[0m\n\u001b[0;32m     11\u001b[0m \u001b[1;32mwhile\u001b[0m \u001b[0mnew_max_vif\u001b[0m \u001b[1;33m>\u001b[0m \u001b[1;36m30\u001b[0m\u001b[1;33m:\u001b[0m\u001b[1;33m\u001b[0m\u001b[1;33m\u001b[0m\u001b[0m\n\u001b[0;32m     12\u001b[0m \u001b[1;33m\u001b[0m\u001b[0m\n\u001b[1;32m---> 13\u001b[1;33m     \u001b[0mnew_vif_df\u001b[0m\u001b[1;33m,\u001b[0m \u001b[0mvif_tp\u001b[0m \u001b[1;33m=\u001b[0m \u001b[0mget_lowest_VIF\u001b[0m\u001b[1;33m(\u001b[0m\u001b[0mstock\u001b[0m\u001b[1;33m,\u001b[0m \u001b[0mnew_vif_df\u001b[0m\u001b[1;33m,\u001b[0m \u001b[0mcl_columns\u001b[0m\u001b[1;33m)\u001b[0m\u001b[1;33m\u001b[0m\u001b[1;33m\u001b[0m\u001b[0m\n\u001b[0m\u001b[0;32m     14\u001b[0m     \u001b[0mnew_max_vif\u001b[0m \u001b[1;33m=\u001b[0m \u001b[0mvif_tp\u001b[0m\u001b[1;33m[\u001b[0m\u001b[1;36m2\u001b[0m\u001b[1;33m]\u001b[0m\u001b[1;33m\u001b[0m\u001b[1;33m\u001b[0m\u001b[0m\n\u001b[0;32m     15\u001b[0m \u001b[1;33m\u001b[0m\u001b[0m\n",
            "\u001b[1;32m<ipython-input-128-ce62bb7e5563>\u001b[0m in \u001b[0;36mget_lowest_VIF\u001b[1;34m(df, old_vif_df, old_columns)\u001b[0m\n\u001b[0;32m     15\u001b[0m         \u001b[0mprint\u001b[0m\u001b[1;33m(\u001b[0m\u001b[1;34m'삭제 된 컬럼:'\u001b[0m\u001b[1;33m,\u001b[0m \u001b[0mold_vif_df\u001b[0m\u001b[1;33m.\u001b[0m\u001b[0miloc\u001b[0m\u001b[1;33m[\u001b[0m\u001b[0mi\u001b[0m\u001b[1;33m]\u001b[0m\u001b[1;33m.\u001b[0m\u001b[0mfeatures\u001b[0m\u001b[1;33m)\u001b[0m\u001b[1;33m\u001b[0m\u001b[1;33m\u001b[0m\u001b[0m\n\u001b[0;32m     16\u001b[0m         \u001b[0mold_columns\u001b[0m\u001b[1;33m.\u001b[0m\u001b[0mremove\u001b[0m\u001b[1;33m(\u001b[0m\u001b[0mold_vif_df\u001b[0m\u001b[1;33m.\u001b[0m\u001b[0miloc\u001b[0m\u001b[1;33m[\u001b[0m\u001b[0mi\u001b[0m\u001b[1;33m]\u001b[0m\u001b[1;33m.\u001b[0m\u001b[0mfeatures\u001b[0m\u001b[1;33m)\u001b[0m\u001b[1;33m\u001b[0m\u001b[1;33m\u001b[0m\u001b[0m\n\u001b[1;32m---> 17\u001b[1;33m         \u001b[0mvif_df\u001b[0m\u001b[1;33m,\u001b[0m \u001b[0mmax_col_name\u001b[0m\u001b[1;33m,\u001b[0m \u001b[0mmax_vif\u001b[0m \u001b[1;33m=\u001b[0m \u001b[0mget_vif\u001b[0m\u001b[1;33m(\u001b[0m\u001b[0mdf\u001b[0m\u001b[1;33m,\u001b[0m \u001b[0mold_columns\u001b[0m\u001b[1;33m)\u001b[0m\u001b[1;33m\u001b[0m\u001b[1;33m\u001b[0m\u001b[0m\n\u001b[0m\u001b[0;32m     18\u001b[0m \u001b[1;33m\u001b[0m\u001b[0m\n\u001b[0;32m     19\u001b[0m         \u001b[0mprint\u001b[0m\u001b[1;33m(\u001b[0m\u001b[1;34m'VIF가 가장 큰 컬럼명, VIF계수 : '\u001b[0m\u001b[1;33m,\u001b[0m \u001b[0mmax_col_name\u001b[0m\u001b[1;33m,\u001b[0m \u001b[0mmax_vif\u001b[0m\u001b[1;33m)\u001b[0m\u001b[1;33m\u001b[0m\u001b[1;33m\u001b[0m\u001b[0m\n",
            "\u001b[1;32m<ipython-input-127-b830de53784a>\u001b[0m in \u001b[0;36mget_vif\u001b[1;34m(df, columns_all)\u001b[0m\n\u001b[0;32m      9\u001b[0m     \u001b[1;31m# 매개변수로 받은 각 피처마다의 VIF 계수를 출력\u001b[0m\u001b[1;33m\u001b[0m\u001b[1;33m\u001b[0m\u001b[1;33m\u001b[0m\u001b[0m\n\u001b[0;32m     10\u001b[0m     \u001b[0mvif_df\u001b[0m \u001b[1;33m=\u001b[0m \u001b[0mpd\u001b[0m\u001b[1;33m.\u001b[0m\u001b[0mDataFrame\u001b[0m\u001b[1;33m(\u001b[0m\u001b[1;33m)\u001b[0m\u001b[1;33m\u001b[0m\u001b[1;33m\u001b[0m\u001b[0m\n\u001b[1;32m---> 11\u001b[1;33m     \u001b[0mvif_df\u001b[0m\u001b[1;33m[\u001b[0m\u001b[1;34m\"VIF Factor\"\u001b[0m\u001b[1;33m]\u001b[0m \u001b[1;33m=\u001b[0m \u001b[1;33m[\u001b[0m\u001b[0mvariance_inflation_factor\u001b[0m\u001b[1;33m(\u001b[0m\u001b[0mdf\u001b[0m\u001b[1;33m[\u001b[0m\u001b[0mcolumns_all\u001b[0m\u001b[1;33m]\u001b[0m\u001b[1;33m.\u001b[0m\u001b[0mvalues\u001b[0m\u001b[1;33m,\u001b[0m \u001b[0mi\u001b[0m\u001b[1;33m)\u001b[0m \u001b[1;32mfor\u001b[0m \u001b[0mi\u001b[0m \u001b[1;32min\u001b[0m \u001b[0mrange\u001b[0m\u001b[1;33m(\u001b[0m\u001b[0mdf\u001b[0m\u001b[1;33m[\u001b[0m\u001b[0mcolumns_all\u001b[0m\u001b[1;33m]\u001b[0m\u001b[1;33m.\u001b[0m\u001b[0mvalues\u001b[0m\u001b[1;33m.\u001b[0m\u001b[0mshape\u001b[0m\u001b[1;33m[\u001b[0m\u001b[1;36m1\u001b[0m\u001b[1;33m]\u001b[0m\u001b[1;33m)\u001b[0m\u001b[1;33m]\u001b[0m\u001b[1;33m\u001b[0m\u001b[1;33m\u001b[0m\u001b[0m\n\u001b[0m\u001b[0;32m     12\u001b[0m \u001b[1;31m#     print(df[columns_all].columns)\u001b[0m\u001b[1;33m\u001b[0m\u001b[1;33m\u001b[0m\u001b[1;33m\u001b[0m\u001b[0m\n\u001b[0;32m     13\u001b[0m     \u001b[0mvif_df\u001b[0m\u001b[1;33m[\u001b[0m\u001b[1;34m\"features\"\u001b[0m\u001b[1;33m]\u001b[0m \u001b[1;33m=\u001b[0m \u001b[0mcolumns_all\u001b[0m\u001b[1;33m\u001b[0m\u001b[1;33m\u001b[0m\u001b[0m\n",
            "\u001b[1;32m<ipython-input-127-b830de53784a>\u001b[0m in \u001b[0;36m<listcomp>\u001b[1;34m(.0)\u001b[0m\n\u001b[0;32m      9\u001b[0m     \u001b[1;31m# 매개변수로 받은 각 피처마다의 VIF 계수를 출력\u001b[0m\u001b[1;33m\u001b[0m\u001b[1;33m\u001b[0m\u001b[1;33m\u001b[0m\u001b[0m\n\u001b[0;32m     10\u001b[0m     \u001b[0mvif_df\u001b[0m \u001b[1;33m=\u001b[0m \u001b[0mpd\u001b[0m\u001b[1;33m.\u001b[0m\u001b[0mDataFrame\u001b[0m\u001b[1;33m(\u001b[0m\u001b[1;33m)\u001b[0m\u001b[1;33m\u001b[0m\u001b[1;33m\u001b[0m\u001b[0m\n\u001b[1;32m---> 11\u001b[1;33m     \u001b[0mvif_df\u001b[0m\u001b[1;33m[\u001b[0m\u001b[1;34m\"VIF Factor\"\u001b[0m\u001b[1;33m]\u001b[0m \u001b[1;33m=\u001b[0m \u001b[1;33m[\u001b[0m\u001b[0mvariance_inflation_factor\u001b[0m\u001b[1;33m(\u001b[0m\u001b[0mdf\u001b[0m\u001b[1;33m[\u001b[0m\u001b[0mcolumns_all\u001b[0m\u001b[1;33m]\u001b[0m\u001b[1;33m.\u001b[0m\u001b[0mvalues\u001b[0m\u001b[1;33m,\u001b[0m \u001b[0mi\u001b[0m\u001b[1;33m)\u001b[0m \u001b[1;32mfor\u001b[0m \u001b[0mi\u001b[0m \u001b[1;32min\u001b[0m \u001b[0mrange\u001b[0m\u001b[1;33m(\u001b[0m\u001b[0mdf\u001b[0m\u001b[1;33m[\u001b[0m\u001b[0mcolumns_all\u001b[0m\u001b[1;33m]\u001b[0m\u001b[1;33m.\u001b[0m\u001b[0mvalues\u001b[0m\u001b[1;33m.\u001b[0m\u001b[0mshape\u001b[0m\u001b[1;33m[\u001b[0m\u001b[1;36m1\u001b[0m\u001b[1;33m]\u001b[0m\u001b[1;33m)\u001b[0m\u001b[1;33m]\u001b[0m\u001b[1;33m\u001b[0m\u001b[1;33m\u001b[0m\u001b[0m\n\u001b[0m\u001b[0;32m     12\u001b[0m \u001b[1;31m#     print(df[columns_all].columns)\u001b[0m\u001b[1;33m\u001b[0m\u001b[1;33m\u001b[0m\u001b[1;33m\u001b[0m\u001b[0m\n\u001b[0;32m     13\u001b[0m     \u001b[0mvif_df\u001b[0m\u001b[1;33m[\u001b[0m\u001b[1;34m\"features\"\u001b[0m\u001b[1;33m]\u001b[0m \u001b[1;33m=\u001b[0m \u001b[0mcolumns_all\u001b[0m\u001b[1;33m\u001b[0m\u001b[1;33m\u001b[0m\u001b[0m\n",
            "\u001b[1;32m~\\anaconda3\\lib\\site-packages\\statsmodels\\stats\\outliers_influence.py\u001b[0m in \u001b[0;36mvariance_inflation_factor\u001b[1;34m(exog, exog_idx)\u001b[0m\n\u001b[0;32m    190\u001b[0m     \u001b[0mmask\u001b[0m \u001b[1;33m=\u001b[0m \u001b[0mnp\u001b[0m\u001b[1;33m.\u001b[0m\u001b[0marange\u001b[0m\u001b[1;33m(\u001b[0m\u001b[0mk_vars\u001b[0m\u001b[1;33m)\u001b[0m \u001b[1;33m!=\u001b[0m \u001b[0mexog_idx\u001b[0m\u001b[1;33m\u001b[0m\u001b[1;33m\u001b[0m\u001b[0m\n\u001b[0;32m    191\u001b[0m     \u001b[0mx_noti\u001b[0m \u001b[1;33m=\u001b[0m \u001b[0mexog\u001b[0m\u001b[1;33m[\u001b[0m\u001b[1;33m:\u001b[0m\u001b[1;33m,\u001b[0m \u001b[0mmask\u001b[0m\u001b[1;33m]\u001b[0m\u001b[1;33m\u001b[0m\u001b[1;33m\u001b[0m\u001b[0m\n\u001b[1;32m--> 192\u001b[1;33m     \u001b[0mr_squared_i\u001b[0m \u001b[1;33m=\u001b[0m \u001b[0mOLS\u001b[0m\u001b[1;33m(\u001b[0m\u001b[0mx_i\u001b[0m\u001b[1;33m,\u001b[0m \u001b[0mx_noti\u001b[0m\u001b[1;33m)\u001b[0m\u001b[1;33m.\u001b[0m\u001b[0mfit\u001b[0m\u001b[1;33m(\u001b[0m\u001b[1;33m)\u001b[0m\u001b[1;33m.\u001b[0m\u001b[0mrsquared\u001b[0m\u001b[1;33m\u001b[0m\u001b[1;33m\u001b[0m\u001b[0m\n\u001b[0m\u001b[0;32m    193\u001b[0m     \u001b[0mvif\u001b[0m \u001b[1;33m=\u001b[0m \u001b[1;36m1.\u001b[0m \u001b[1;33m/\u001b[0m \u001b[1;33m(\u001b[0m\u001b[1;36m1.\u001b[0m \u001b[1;33m-\u001b[0m \u001b[0mr_squared_i\u001b[0m\u001b[1;33m)\u001b[0m\u001b[1;33m\u001b[0m\u001b[1;33m\u001b[0m\u001b[0m\n\u001b[0;32m    194\u001b[0m     \u001b[1;32mreturn\u001b[0m \u001b[0mvif\u001b[0m\u001b[1;33m\u001b[0m\u001b[1;33m\u001b[0m\u001b[0m\n",
            "\u001b[1;32m~\\anaconda3\\lib\\site-packages\\statsmodels\\regression\\linear_model.py\u001b[0m in \u001b[0;36mfit\u001b[1;34m(self, method, cov_type, cov_kwds, use_t, **kwargs)\u001b[0m\n\u001b[0;32m    303\u001b[0m                     hasattr(self, 'rank')):\n\u001b[0;32m    304\u001b[0m \u001b[1;33m\u001b[0m\u001b[0m\n\u001b[1;32m--> 305\u001b[1;33m                 \u001b[0mself\u001b[0m\u001b[1;33m.\u001b[0m\u001b[0mpinv_wexog\u001b[0m\u001b[1;33m,\u001b[0m \u001b[0msingular_values\u001b[0m \u001b[1;33m=\u001b[0m \u001b[0mpinv_extended\u001b[0m\u001b[1;33m(\u001b[0m\u001b[0mself\u001b[0m\u001b[1;33m.\u001b[0m\u001b[0mwexog\u001b[0m\u001b[1;33m)\u001b[0m\u001b[1;33m\u001b[0m\u001b[1;33m\u001b[0m\u001b[0m\n\u001b[0m\u001b[0;32m    306\u001b[0m                 self.normalized_cov_params = np.dot(\n\u001b[0;32m    307\u001b[0m                     self.pinv_wexog, np.transpose(self.pinv_wexog))\n",
            "\u001b[1;32m~\\anaconda3\\lib\\site-packages\\statsmodels\\tools\\tools.py\u001b[0m in \u001b[0;36mpinv_extended\u001b[1;34m(x, rcond)\u001b[0m\n\u001b[0;32m    405\u001b[0m     \u001b[0mx\u001b[0m \u001b[1;33m=\u001b[0m \u001b[0mnp\u001b[0m\u001b[1;33m.\u001b[0m\u001b[0masarray\u001b[0m\u001b[1;33m(\u001b[0m\u001b[0mx\u001b[0m\u001b[1;33m)\u001b[0m\u001b[1;33m\u001b[0m\u001b[1;33m\u001b[0m\u001b[0m\n\u001b[0;32m    406\u001b[0m     \u001b[0mx\u001b[0m \u001b[1;33m=\u001b[0m \u001b[0mx\u001b[0m\u001b[1;33m.\u001b[0m\u001b[0mconjugate\u001b[0m\u001b[1;33m(\u001b[0m\u001b[1;33m)\u001b[0m\u001b[1;33m\u001b[0m\u001b[1;33m\u001b[0m\u001b[0m\n\u001b[1;32m--> 407\u001b[1;33m     \u001b[0mu\u001b[0m\u001b[1;33m,\u001b[0m \u001b[0ms\u001b[0m\u001b[1;33m,\u001b[0m \u001b[0mvt\u001b[0m \u001b[1;33m=\u001b[0m \u001b[0mnp\u001b[0m\u001b[1;33m.\u001b[0m\u001b[0mlinalg\u001b[0m\u001b[1;33m.\u001b[0m\u001b[0msvd\u001b[0m\u001b[1;33m(\u001b[0m\u001b[0mx\u001b[0m\u001b[1;33m,\u001b[0m \u001b[1;32mFalse\u001b[0m\u001b[1;33m)\u001b[0m\u001b[1;33m\u001b[0m\u001b[1;33m\u001b[0m\u001b[0m\n\u001b[0m\u001b[0;32m    408\u001b[0m     \u001b[0ms_orig\u001b[0m \u001b[1;33m=\u001b[0m \u001b[0mnp\u001b[0m\u001b[1;33m.\u001b[0m\u001b[0mcopy\u001b[0m\u001b[1;33m(\u001b[0m\u001b[0ms\u001b[0m\u001b[1;33m)\u001b[0m\u001b[1;33m\u001b[0m\u001b[1;33m\u001b[0m\u001b[0m\n\u001b[0;32m    409\u001b[0m     \u001b[0mm\u001b[0m \u001b[1;33m=\u001b[0m \u001b[0mu\u001b[0m\u001b[1;33m.\u001b[0m\u001b[0mshape\u001b[0m\u001b[1;33m[\u001b[0m\u001b[1;36m0\u001b[0m\u001b[1;33m]\u001b[0m\u001b[1;33m\u001b[0m\u001b[1;33m\u001b[0m\u001b[0m\n",
            "\u001b[1;32m<__array_function__ internals>\u001b[0m in \u001b[0;36msvd\u001b[1;34m(*args, **kwargs)\u001b[0m\n",
            "\u001b[1;32m~\\anaconda3\\lib\\site-packages\\numpy\\linalg\\linalg.py\u001b[0m in \u001b[0;36msvd\u001b[1;34m(a, full_matrices, compute_uv, hermitian)\u001b[0m\n\u001b[0;32m   1658\u001b[0m \u001b[1;33m\u001b[0m\u001b[0m\n\u001b[0;32m   1659\u001b[0m         \u001b[0msignature\u001b[0m \u001b[1;33m=\u001b[0m \u001b[1;34m'D->DdD'\u001b[0m \u001b[1;32mif\u001b[0m \u001b[0misComplexType\u001b[0m\u001b[1;33m(\u001b[0m\u001b[0mt\u001b[0m\u001b[1;33m)\u001b[0m \u001b[1;32melse\u001b[0m \u001b[1;34m'd->ddd'\u001b[0m\u001b[1;33m\u001b[0m\u001b[1;33m\u001b[0m\u001b[0m\n\u001b[1;32m-> 1660\u001b[1;33m         \u001b[0mu\u001b[0m\u001b[1;33m,\u001b[0m \u001b[0ms\u001b[0m\u001b[1;33m,\u001b[0m \u001b[0mvh\u001b[0m \u001b[1;33m=\u001b[0m \u001b[0mgufunc\u001b[0m\u001b[1;33m(\u001b[0m\u001b[0ma\u001b[0m\u001b[1;33m,\u001b[0m \u001b[0msignature\u001b[0m\u001b[1;33m=\u001b[0m\u001b[0msignature\u001b[0m\u001b[1;33m,\u001b[0m \u001b[0mextobj\u001b[0m\u001b[1;33m=\u001b[0m\u001b[0mextobj\u001b[0m\u001b[1;33m)\u001b[0m\u001b[1;33m\u001b[0m\u001b[1;33m\u001b[0m\u001b[0m\n\u001b[0m\u001b[0;32m   1661\u001b[0m         \u001b[0mu\u001b[0m \u001b[1;33m=\u001b[0m \u001b[0mu\u001b[0m\u001b[1;33m.\u001b[0m\u001b[0mastype\u001b[0m\u001b[1;33m(\u001b[0m\u001b[0mresult_t\u001b[0m\u001b[1;33m,\u001b[0m \u001b[0mcopy\u001b[0m\u001b[1;33m=\u001b[0m\u001b[1;32mFalse\u001b[0m\u001b[1;33m)\u001b[0m\u001b[1;33m\u001b[0m\u001b[1;33m\u001b[0m\u001b[0m\n\u001b[0;32m   1662\u001b[0m         \u001b[0ms\u001b[0m \u001b[1;33m=\u001b[0m \u001b[0ms\u001b[0m\u001b[1;33m.\u001b[0m\u001b[0mastype\u001b[0m\u001b[1;33m(\u001b[0m\u001b[0m_realType\u001b[0m\u001b[1;33m(\u001b[0m\u001b[0mresult_t\u001b[0m\u001b[1;33m)\u001b[0m\u001b[1;33m,\u001b[0m \u001b[0mcopy\u001b[0m\u001b[1;33m=\u001b[0m\u001b[1;32mFalse\u001b[0m\u001b[1;33m)\u001b[0m\u001b[1;33m\u001b[0m\u001b[1;33m\u001b[0m\u001b[0m\n",
            "\u001b[1;31mKeyboardInterrupt\u001b[0m: "
          ]
        }
      ]
    }
  ]
}